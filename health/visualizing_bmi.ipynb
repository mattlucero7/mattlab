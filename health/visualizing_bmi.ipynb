{
 "cells": [
  {
   "cell_type": "markdown",
   "id": "1353f242",
   "metadata": {},
   "source": [
    "# Visualizing BMI"
   ]
  },
  {
   "cell_type": "markdown",
   "id": "d7d15404",
   "metadata": {},
   "source": [
    "This notebook helps visualize the Body Mass Index (BMI) of an individual based on their height and weight. The BMI is calculated using the formula:\n",
    "\n",
    "$$\n",
    "\\text{BMI} = \\frac{\\text{weight (kg)}}{\\text{height (m)}^2}\n",
    "$$\n",
    "\n",
    "### The BMI is categorized into different ranges:\n",
    "- Underweight: BMI < 18.5\n",
    "- Normal weight: 18.5 ≤ BMI < 24.9\n",
    "- Overweight: 25 ≤ BMI < 29.9\n",
    "- Obesity: BMI ≥ 30"
   ]
  },
  {
   "cell_type": "code",
   "execution_count": 1,
   "id": "bd0248de",
   "metadata": {},
   "outputs": [],
   "source": [
    "%%capture --no-stderr\n",
    "%pip install --quiet -U matplotlib numpy ipywidgets"
   ]
  },
  {
   "cell_type": "code",
   "execution_count": null,
   "id": "7dc77558",
   "metadata": {},
   "outputs": [
    {
     "ename": "NameError",
     "evalue": "name 'weight_slider_person' is not defined",
     "output_type": "error",
     "traceback": [
      "\u001b[31m---------------------------------------------------------------------------\u001b[39m",
      "\u001b[31mNameError\u001b[39m                                 Traceback (most recent call last)",
      "\u001b[36mCell\u001b[39m\u001b[36m \u001b[39m\u001b[32mIn[2]\u001b[39m\u001b[32m, line 70\u001b[39m\n\u001b[32m     67\u001b[39m     plt.show()\n\u001b[32m     69\u001b[39m \u001b[38;5;66;03m# Update interactive sliders to use the combined function\u001b[39;00m\n\u001b[32m---> \u001b[39m\u001b[32m70\u001b[39m interactive_combined_plot = widgets.interactive(visualize_bmi_with_person_and_regions, weight=\u001b[43mweight_slider_person\u001b[49m, height=height_slider_person)\n\u001b[32m     71\u001b[39m display(interactive_combined_plot)\n",
      "\u001b[31mNameError\u001b[39m: name 'weight_slider_person' is not defined"
     ]
    }
   ],
   "source": [
    "import matplotlib.patches as mpatches\n",
    "import matplotlib.pyplot as plt\n",
    "import numpy as np\n",
    "import ipywidgets as widgets\n",
    "from IPython.display import display\n",
    "\n",
    "def visualize_bmi_with_person_and_regions(weight, height):\n",
    "    \"\"\"\n",
    "    Visualizes BMI using a person-like graphic and a weight-height graph with BMI regions.\n",
    "\n",
    "    Args:\n",
    "        weight: The weight in kilograms.\n",
    "        height: The height in meters.\n",
    "    \"\"\"\n",
    "\n",
    "    # Person-like graphic\n",
    "    height = float(height)\n",
    "    weight = float(weight)\n",
    "    bmi = weight / (height ** 2)\n",
    "\n",
    "    if bmi < 18.5:\n",
    "        body_color = 'yellow'  # Underweight\n",
    "    elif 18.5 <= bmi < 24.9:\n",
    "        body_color = 'lightblue'  # Normal weight\n",
    "    elif 25 <= bmi < 29.9:\n",
    "        body_color = 'yellow'  # Overweight\n",
    "    else:\n",
    "        body_color = 'red'  # Obesity\n",
    "\n",
    "    head_radius = height * 0.1\n",
    "    body_height = height * 0.7\n",
    "    body_width = weight / 100\n",
    "\n",
    "    fig, ax = plt.subplots()\n",
    "    head = plt.Circle((0.5, body_height + head_radius), head_radius, color=body_color, alpha=0.8)\n",
    "    ax.add_patch(head)\n",
    "    body_x = [0.5 - body_width / 2, 0.5 + body_width / 2, 0.5 + body_width / 2, 0.5 - body_width / 2, 0.5 - body_width / 2]\n",
    "    body_y = [0, 0, body_height, body_height, 0]\n",
    "    ax.fill(body_x, body_y, body_color, alpha=0.8)\n",
    "    ax.set_xlim(0, 1)\n",
    "    ax.set_ylim(0, height + head_radius * 2)\n",
    "    ax.set_aspect('equal')\n",
    "    ax.set_title(f\"BMI: {bmi:.2f} (Weight: {weight:.2f} kg, Height: {height:.2f} m)\")\n",
    "    ax.set_xlabel(\"Width (Simplified)\")\n",
    "    ax.set_ylabel(\"Height (Meters)\")\n",
    "    ax.grid(True)\n",
    "    plt.show()\n",
    "\n",
    "    # Weight vs. height graph with BMI regions\n",
    "    weights = np.linspace(40, 220, 500)\n",
    "    heights_underweight = np.sqrt(weights / 18.5)\n",
    "    heights_normal = np.sqrt(weights / 24.9)\n",
    "    heights_overweight = np.sqrt(weights / 29.9)\n",
    "\n",
    "    fig, ax = plt.subplots(figsize=(8, 6))\n",
    "    # 🤔 hmm upperbound colouring is challenging, sorry will retain white might revisit later\n",
    "    ax.fill_between(weights, 0, heights_underweight, color='yellow', alpha=0.01, label='Underweight')\n",
    "    ax.fill_between(weights, heights_underweight, heights_normal, color='lightblue', alpha=0.3, label='Normal weight')\n",
    "    ax.fill_between(weights, heights_normal, heights_overweight, color='yellow', alpha=0.3, label='Overweight')\n",
    "    ax.fill_between(weights, heights_overweight, 0, color='red', alpha=0.3, label='Obesity')\n",
    "    ax.scatter(weight, height, color='black', s=100, label='Your Position')\n",
    "    ax.set_title(\"Weight vs. Height with BMI Categories\")\n",
    "    ax.set_xlabel(\"Weight (kg)\")\n",
    "    ax.set_ylabel(\"Height (m)\")\n",
    "    ax.legend(loc='upper right')\n",
    "    ax.grid(True)\n",
    "    plt.show()\n",
    "\n",
    "weight_slider_person = widgets.FloatSlider(min=40, max=220, step=1, value=70, description='Weight (kg)')\n",
    "height_slider_person = widgets.FloatSlider(min=1.0, max=2.5, step=0.01, value=1.7, description='Height (m)')\n",
    "\n",
    "# Update interactive sliders to use the combined function\n",
    "interactive_combined_plot = widgets.interactive(\n",
    "    visualize_bmi_with_person_and_regions,\n",
    "    weight=weight_slider_person,\n",
    "    height=height_slider_person\n",
    ")\n",
    "display(interactive_combined_plot)"
   ]
  }
 ],
 "metadata": {
  "kernelspec": {
   "display_name": ".venv",
   "language": "python",
   "name": "python3"
  },
  "language_info": {
   "codemirror_mode": {
    "name": "ipython",
    "version": 3
   },
   "file_extension": ".py",
   "mimetype": "text/x-python",
   "name": "python",
   "nbconvert_exporter": "python",
   "pygments_lexer": "ipython3",
   "version": "3.13.3"
  }
 },
 "nbformat": 4,
 "nbformat_minor": 5
}
