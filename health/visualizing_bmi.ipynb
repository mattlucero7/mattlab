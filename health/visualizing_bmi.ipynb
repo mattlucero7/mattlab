{
 "cells": [
  {
   "cell_type": "markdown",
   "id": "1353f242",
   "metadata": {},
   "source": [
    "# Visualizing BMI"
   ]
  },
  {
   "cell_type": "markdown",
   "id": "d7d15404",
   "metadata": {},
   "source": [
    "This notebook helps visualize the Body Mass Index (BMI) of an individual based on their height and weight. The BMI is calculated using the formula:\n",
    "\n",
    "$$\n",
    "\\text{BMI} = \\frac{\\text{weight (kg)}}{\\text{height (m)}^2}\n",
    "$$\n",
    "\n",
    "### The BMI is categorized into different ranges:\n",
    "- Underweight: BMI < 18.5\n",
    "- Normal weight: 18.5 ≤ BMI < 24.9\n",
    "- Overweight: 25 ≤ BMI < 29.9\n",
    "- Obesity: BMI ≥ 30"
   ]
  },
  {
   "cell_type": "code",
   "execution_count": 13,
   "id": "bd0248de",
   "metadata": {},
   "outputs": [],
   "source": [
    "%%capture --no-stderr\n",
    "%pip install --quiet -U matplotlib numpy ipywidgets"
   ]
  },
  {
   "cell_type": "code",
   "execution_count": null,
   "id": "7dc77558",
   "metadata": {},
   "outputs": [
    {
     "data": {
      "application/vnd.jupyter.widget-view+json": {
       "model_id": "ef03546fddb542368a9d08ee8dc68f2d",
       "version_major": 2,
       "version_minor": 0
      },
      "text/plain": [
       "interactive(children=(FloatSlider(value=70.0, description='Weight (kg):', max=220.0, min=40.0, step=1.0), Floa…"
      ]
     },
     "metadata": {},
     "output_type": "display_data"
    }
   ],
   "source": [
    "import matplotlib.pyplot as plt\n",
    "import numpy as np\n",
    "import ipywidgets as widgets\n",
    "from IPython.display import display\n",
    "\n",
    "def visualize_bmi_with_person(weight, height):\n",
    "    \"\"\"\n",
    "    Visualizes BMI using a person-like graphic with color-coded BMI categories.\n",
    "\n",
    "    Args:\n",
    "        weight: The weight in kilograms.\n",
    "        height: The height in meters.\n",
    "    \"\"\"\n",
    "\n",
    "    height = float(height)\n",
    "    weight = float(weight)\n",
    "\n",
    "    # Calculate BMI\n",
    "    bmi = weight / (height ** 2)\n",
    "\n",
    "    # Determine body color based on BMI category\n",
    "    if bmi < 18.5:\n",
    "        body_color = 'yellow'  # Underweight\n",
    "    elif 18.5 <= bmi < 24.9:\n",
    "        body_color = 'lightblue'  # Normal weight\n",
    "    elif 25 <= bmi < 29.9:\n",
    "        body_color = 'yellow'  # Overweight\n",
    "    else:\n",
    "        body_color = 'red'  # Obesity\n",
    "\n",
    "    # Create a person-like figure (simplified as a circle for the head and a rectangle for the body)\n",
    "    head_radius = height * 0.1\n",
    "    body_height = height * 0.7\n",
    "    body_width = weight / 100  # SIMPLIFIED proportional width based on weight\n",
    "\n",
    "    # Create the plot\n",
    "    fig, ax = plt.subplots()\n",
    "    \n",
    "    # Draw the head\n",
    "    head = plt.Circle((0.5, body_height + head_radius), head_radius, color=body_color, alpha=0.8)\n",
    "    ax.add_patch(head)\n",
    "    \n",
    "    # Draw the body\n",
    "    body_x = [0.5 - body_width / 2, 0.5 + body_width / 2, 0.5 + body_width / 2, 0.5 - body_width / 2, 0.5 - body_width / 2]\n",
    "    body_y = [0, 0, body_height, body_height, 0]\n",
    "    ax.fill(body_x, body_y, body_color, alpha=0.8)\n",
    "    \n",
    "    # Set plot limits and labels\n",
    "    ax.set_xlim(0, 1)\n",
    "    ax.set_ylim(0, height + head_radius * 2)\n",
    "    ax.set_aspect('equal')\n",
    "    ax.set_title(f\"BMI: {bmi:.2f} (Weight: {weight:.2f} kg, Height: {height:.2f} m)\")\n",
    "    ax.set_xlabel(\"Width (Simplified)\")\n",
    "    ax.set_ylabel(\"Height (Meters)\")\n",
    "    ax.grid(True)\n",
    "    \n",
    "    plt.show()\n",
    "\n",
    "# Create interactive sliders\n",
    "weight_slider_person = widgets.FloatSlider(\n",
    "    value=70,\n",
    "    min=40,\n",
    "    max=220,\n",
    "    step=1,\n",
    "    description=\"Weight (kg):\"\n",
    ")\n",
    "\n",
    "height_slider_person = widgets.FloatSlider(\n",
    "    value=1.7,\n",
    "    min=1.2,\n",
    "    max=3.2,\n",
    "    step=0.01,\n",
    "    description=\"Height (m):\"\n",
    ")\n",
    "\n",
    "# Display the sliders and the plot\n",
    "interactive_person_plot = widgets.interactive(visualize_bmi_with_person, weight=weight_slider_person, height=height_slider_person)\n",
    "display(interactive_person_plot)"
   ]
  }
 ],
 "metadata": {
  "kernelspec": {
   "display_name": ".venv",
   "language": "python",
   "name": "python3"
  },
  "language_info": {
   "codemirror_mode": {
    "name": "ipython",
    "version": 3
   },
   "file_extension": ".py",
   "mimetype": "text/x-python",
   "name": "python",
   "nbconvert_exporter": "python",
   "pygments_lexer": "ipython3",
   "version": "3.13.3"
  }
 },
 "nbformat": 4,
 "nbformat_minor": 5
}
